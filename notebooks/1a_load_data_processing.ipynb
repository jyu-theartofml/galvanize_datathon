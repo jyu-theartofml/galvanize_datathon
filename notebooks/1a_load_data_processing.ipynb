{
 "cells": [
  {
   "cell_type": "code",
   "execution_count": 1,
   "id": "af8b3498",
   "metadata": {},
   "outputs": [],
   "source": [
    "import os\n",
    "\n",
    "import cupy as cp\n",
    "import pandas as pd\n",
    "import cudf\n",
    "import numpy as np\n",
    "import glob\n",
    "from datetime import datetime\n",
    "import matplotlib.pyplot as plt"
   ]
  },
  {
   "cell_type": "markdown",
   "id": "70910d79",
   "metadata": {},
   "source": [
    "## Import all the csv files via `cudf.read_csv`"
   ]
  },
  {
   "cell_type": "code",
   "execution_count": 2,
   "id": "b64e0a93",
   "metadata": {},
   "outputs": [],
   "source": [
    "def import_csv(dir_name):\n",
    "    \"\"\"\n",
    "        get the cudf dataframe from each month\n",
    "\n",
    "    \"\"\"   \n",
    "    df_ls=[]\n",
    "    for fname in glob.glob(dir_name+'/*'):\n",
    "        daily_df=cudf.read_csv(fname, parse_dates=['Time Stamp'])\n",
    "        df_ls.append(daily_df)\n",
    "    monthly_df=cudf.concat(df_ls, axis=0)\n",
    "    monthly_df = monthly_df.sort_values(by='Time Stamp').dropna()\n",
    "    \n",
    "    return monthly_df\n",
    "    "
   ]
  },
  {
   "cell_type": "code",
   "execution_count": 3,
   "id": "5fa70f0c",
   "metadata": {},
   "outputs": [],
   "source": [
    "jan_df=import_csv('load_data/20210101pal_csv')\n",
    "feb_df=import_csv('load_data/20210201pal_csv')\n",
    "mar_df=import_csv('load_data/20210301pal_csv')\n",
    "apr_df=import_csv('load_data/20210401pal_csv')\n",
    "may_df=import_csv('load_data/20210501pal_csv')\n",
    "jun_df=import_csv('load_data/20210601pal_csv')\n",
    "jul_df=import_csv('load_data/20210701pal_csv')"
   ]
  },
  {
   "cell_type": "code",
   "execution_count": 4,
   "id": "cebac1fa",
   "metadata": {},
   "outputs": [
    {
     "data": {
      "text/html": [
       "<div>\n",
       "<style scoped>\n",
       "    .dataframe tbody tr th:only-of-type {\n",
       "        vertical-align: middle;\n",
       "    }\n",
       "\n",
       "    .dataframe tbody tr th {\n",
       "        vertical-align: top;\n",
       "    }\n",
       "\n",
       "    .dataframe thead th {\n",
       "        text-align: right;\n",
       "    }\n",
       "</style>\n",
       "<table border=\"1\" class=\"dataframe\">\n",
       "  <thead>\n",
       "    <tr style=\"text-align: right;\">\n",
       "      <th></th>\n",
       "      <th>Time Stamp</th>\n",
       "      <th>Time Zone</th>\n",
       "      <th>Name</th>\n",
       "      <th>PTID</th>\n",
       "      <th>Load</th>\n",
       "    </tr>\n",
       "  </thead>\n",
       "  <tbody>\n",
       "    <tr>\n",
       "      <th>0</th>\n",
       "      <td>2021-01-01</td>\n",
       "      <td>EST</td>\n",
       "      <td>CAPITL</td>\n",
       "      <td>61757</td>\n",
       "      <td>1253.6528</td>\n",
       "    </tr>\n",
       "    <tr>\n",
       "      <th>1</th>\n",
       "      <td>2021-01-01</td>\n",
       "      <td>EST</td>\n",
       "      <td>CENTRL</td>\n",
       "      <td>61754</td>\n",
       "      <td>1646.5823</td>\n",
       "    </tr>\n",
       "    <tr>\n",
       "      <th>2</th>\n",
       "      <td>2021-01-01</td>\n",
       "      <td>EST</td>\n",
       "      <td>DUNWOD</td>\n",
       "      <td>61760</td>\n",
       "      <td>602.6414</td>\n",
       "    </tr>\n",
       "    <tr>\n",
       "      <th>3</th>\n",
       "      <td>2021-01-01</td>\n",
       "      <td>EST</td>\n",
       "      <td>GENESE</td>\n",
       "      <td>61753</td>\n",
       "      <td>1009.6906</td>\n",
       "    </tr>\n",
       "    <tr>\n",
       "      <th>4</th>\n",
       "      <td>2021-01-01</td>\n",
       "      <td>EST</td>\n",
       "      <td>HUD VL</td>\n",
       "      <td>61758</td>\n",
       "      <td>1031.5640</td>\n",
       "    </tr>\n",
       "  </tbody>\n",
       "</table>\n",
       "</div>"
      ],
      "text/plain": [
       "  Time Stamp Time Zone    Name   PTID       Load\n",
       "0 2021-01-01       EST  CAPITL  61757  1253.6528\n",
       "1 2021-01-01       EST  CENTRL  61754  1646.5823\n",
       "2 2021-01-01       EST  DUNWOD  61760   602.6414\n",
       "3 2021-01-01       EST  GENESE  61753  1009.6906\n",
       "4 2021-01-01       EST  HUD VL  61758  1031.5640"
      ]
     },
     "execution_count": 4,
     "metadata": {},
     "output_type": "execute_result"
    }
   ],
   "source": [
    "jan_df.head()"
   ]
  },
  {
   "cell_type": "markdown",
   "id": "89fd8e5b",
   "metadata": {},
   "source": [
    "## Preliminary visualization - plot the time series from Jan 2021- July 2021"
   ]
  },
  {
   "cell_type": "code",
   "execution_count": 5,
   "id": "4b209584",
   "metadata": {},
   "outputs": [],
   "source": [
    "whole_ts=cudf.concat([jan_df, feb_df, mar_df, apr_df, may_df, jun_df, jul_df], axis=0)\n",
    "whole_ts=whole_ts.reset_index(drop=True)"
   ]
  },
  {
   "cell_type": "code",
   "execution_count": 6,
   "id": "20736b0d",
   "metadata": {},
   "outputs": [],
   "source": [
    "#The day of the week with Monday=0, Sunday=6.\n",
    "whole_ts['weekday']=whole_ts['Time Stamp'].dt.dayofweek\n",
    "whole_ts['hour']=whole_ts['Time Stamp'].dt.hour\n",
    "whole_ts['month']=whole_ts['Time Stamp'].dt.month\n",
    "\n",
    "\n",
    "weekday_map={0: 'Monday', 1: 'Tuesday', 2: 'Wednesday', 3: 'Thursday', 4: 'Friday', 5: 'Saturday', 6: 'Sunday'}\n",
    "whole_ts['dayofweek']=whole_ts['weekday'].map(weekday_map)"
   ]
  },
  {
   "cell_type": "code",
   "execution_count": 7,
   "id": "b8ee4c47",
   "metadata": {},
   "outputs": [
    {
     "data": {
      "text/html": [
       "<div>\n",
       "<style scoped>\n",
       "    .dataframe tbody tr th:only-of-type {\n",
       "        vertical-align: middle;\n",
       "    }\n",
       "\n",
       "    .dataframe tbody tr th {\n",
       "        vertical-align: top;\n",
       "    }\n",
       "\n",
       "    .dataframe thead th {\n",
       "        text-align: right;\n",
       "    }\n",
       "</style>\n",
       "<table border=\"1\" class=\"dataframe\">\n",
       "  <thead>\n",
       "    <tr style=\"text-align: right;\">\n",
       "      <th></th>\n",
       "      <th>Time Stamp</th>\n",
       "      <th>Time Zone</th>\n",
       "      <th>Name</th>\n",
       "      <th>PTID</th>\n",
       "      <th>Load</th>\n",
       "      <th>weekday</th>\n",
       "      <th>hour</th>\n",
       "      <th>month</th>\n",
       "      <th>dayofweek</th>\n",
       "    </tr>\n",
       "  </thead>\n",
       "  <tbody>\n",
       "    <tr>\n",
       "      <th>653527</th>\n",
       "      <td>2021-07-29 01:25:00</td>\n",
       "      <td>EDT</td>\n",
       "      <td>MHK VL</td>\n",
       "      <td>61756</td>\n",
       "      <td>742.6400</td>\n",
       "      <td>3</td>\n",
       "      <td>1</td>\n",
       "      <td>7</td>\n",
       "      <td>Thursday</td>\n",
       "    </tr>\n",
       "    <tr>\n",
       "      <th>653528</th>\n",
       "      <td>2021-07-29 01:25:00</td>\n",
       "      <td>EDT</td>\n",
       "      <td>MILLWD</td>\n",
       "      <td>61759</td>\n",
       "      <td>281.5977</td>\n",
       "      <td>3</td>\n",
       "      <td>1</td>\n",
       "      <td>7</td>\n",
       "      <td>Thursday</td>\n",
       "    </tr>\n",
       "    <tr>\n",
       "      <th>653529</th>\n",
       "      <td>2021-07-29 01:25:00</td>\n",
       "      <td>EDT</td>\n",
       "      <td>N.Y.C.</td>\n",
       "      <td>61761</td>\n",
       "      <td>5927.3965</td>\n",
       "      <td>3</td>\n",
       "      <td>1</td>\n",
       "      <td>7</td>\n",
       "      <td>Thursday</td>\n",
       "    </tr>\n",
       "    <tr>\n",
       "      <th>653530</th>\n",
       "      <td>2021-07-29 01:25:00</td>\n",
       "      <td>EDT</td>\n",
       "      <td>NORTH</td>\n",
       "      <td>61755</td>\n",
       "      <td>545.2728</td>\n",
       "      <td>3</td>\n",
       "      <td>1</td>\n",
       "      <td>7</td>\n",
       "      <td>Thursday</td>\n",
       "    </tr>\n",
       "    <tr>\n",
       "      <th>653531</th>\n",
       "      <td>2021-07-29 01:25:00</td>\n",
       "      <td>EDT</td>\n",
       "      <td>WEST</td>\n",
       "      <td>61752</td>\n",
       "      <td>1576.6697</td>\n",
       "      <td>3</td>\n",
       "      <td>1</td>\n",
       "      <td>7</td>\n",
       "      <td>Thursday</td>\n",
       "    </tr>\n",
       "  </tbody>\n",
       "</table>\n",
       "</div>"
      ],
      "text/plain": [
       "                Time Stamp Time Zone    Name   PTID       Load  weekday  hour  \\\n",
       "653527 2021-07-29 01:25:00       EDT  MHK VL  61756   742.6400        3     1   \n",
       "653528 2021-07-29 01:25:00       EDT  MILLWD  61759   281.5977        3     1   \n",
       "653529 2021-07-29 01:25:00       EDT  N.Y.C.  61761  5927.3965        3     1   \n",
       "653530 2021-07-29 01:25:00       EDT   NORTH  61755   545.2728        3     1   \n",
       "653531 2021-07-29 01:25:00       EDT    WEST  61752  1576.6697        3     1   \n",
       "\n",
       "        month dayofweek  \n",
       "653527      7  Thursday  \n",
       "653528      7  Thursday  \n",
       "653529      7  Thursday  \n",
       "653530      7  Thursday  \n",
       "653531      7  Thursday  "
      ]
     },
     "execution_count": 7,
     "metadata": {},
     "output_type": "execute_result"
    }
   ],
   "source": [
    "whole_ts.tail()"
   ]
  },
  {
   "cell_type": "code",
   "execution_count": 14,
   "id": "c5b3ace9",
   "metadata": {},
   "outputs": [
    {
     "data": {
      "text/plain": [
       "(array([18628., 18659., 18687., 18718., 18748., 18779., 18809., 18840.]),\n",
       " [Text(0, 0, ''),\n",
       "  Text(0, 0, ''),\n",
       "  Text(0, 0, ''),\n",
       "  Text(0, 0, ''),\n",
       "  Text(0, 0, ''),\n",
       "  Text(0, 0, ''),\n",
       "  Text(0, 0, ''),\n",
       "  Text(0, 0, '')])"
      ]
     },
     "execution_count": 14,
     "metadata": {},
     "output_type": "execute_result"
    },
    {
     "data": {
      "image/png": "[encoded data removed]",
      "text/plain": [
       "<Figure size 432x288 with 1 Axes>"
      ]
     },
     "metadata": {
      "needs_background": "light"
     },
     "output_type": "display_data"
    }
   ],
   "source": [
    "plt.plot(whole_ts['Time Stamp'].to_array(), whole_ts['Load'].to_array())\n",
    "plt.xticks(rotation = 45) "
   ]
  },
  {
   "cell_type": "code",
   "execution_count": 8,
   "id": "ff47de69",
   "metadata": {},
   "outputs": [],
   "source": [
    "whole_ts.to_csv('Jan2021-July2021-load.csv', index=False)"
   ]
  },
  {
   "cell_type": "code",
   "execution_count": null,
   "id": "97e15cf1",
   "metadata": {},
   "outputs": [],
   "source": []
  }
 ],
 "metadata": {
  "kernelspec": {
   "display_name": "Python 3",
   "language": "python",
   "name": "python3"
  },
  "language_info": {
   "codemirror_mode": {
    "name": "ipython",
    "version": 3
   },
   "file_extension": ".py",
   "mimetype": "text/x-python",
   "name": "python",
   "nbconvert_exporter": "python",
   "pygments_lexer": "ipython3",
   "version": "3.7.10"
  }
 },
 "nbformat": 4,
 "nbformat_minor": 5
}
